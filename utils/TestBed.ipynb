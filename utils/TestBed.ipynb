{
  "nbformat": 4,
  "nbformat_minor": 0,
  "metadata": {
    "colab": {
      "name": "TestBed",
      "provenance": [],
      "collapsed_sections": []
    },
    "kernelspec": {
      "name": "python3",
      "display_name": "Python 3"
    },
    "accelerator": "GPU"
  },
  "cells": [
    {
      "cell_type": "markdown",
      "metadata": {
        "id": "vM54r6jlKTII"
      },
      "source": [
        "# Install detectron2"
      ]
    },
    {
      "cell_type": "markdown",
      "metadata": {
        "id": "5xMd3fak1zpO"
      },
      "source": [
        ""
      ]
    },
    {
      "cell_type": "code",
      "metadata": {
        "id": "9_FzH13EjseR",
        "colab": {
          "base_uri": "https://localhost:8080/"
        },
        "outputId": "2bb1e460-4334-4a70-8915-5946954826dd"
      },
      "source": [
        "# install dependencies: \n",
        "!pip install pyyaml==5.1\n",
        "!pip install torch==1.8.1 torchvision==0.9.1 torchtext===0.9.1\n",
        "import torch, torchvision\n",
        "print(torch.__version__, torch.cuda.is_available())\n",
        "!find . -name \".DS_Store\" -delete"
      ],
      "execution_count": 1,
      "outputs": [
        {
          "output_type": "stream",
          "text": [
            "Collecting pyyaml==5.1\n",
            "  Downloading PyYAML-5.1.tar.gz (274 kB)\n",
            "\u001b[?25l\r\u001b[K     |█▏                              | 10 kB 34.4 MB/s eta 0:00:01\r\u001b[K     |██▍                             | 20 kB 21.4 MB/s eta 0:00:01\r\u001b[K     |███▋                            | 30 kB 16.9 MB/s eta 0:00:01\r\u001b[K     |████▉                           | 40 kB 15.1 MB/s eta 0:00:01\r\u001b[K     |██████                          | 51 kB 7.7 MB/s eta 0:00:01\r\u001b[K     |███████▏                        | 61 kB 8.2 MB/s eta 0:00:01\r\u001b[K     |████████▍                       | 71 kB 7.3 MB/s eta 0:00:01\r\u001b[K     |█████████▋                      | 81 kB 8.1 MB/s eta 0:00:01\r\u001b[K     |██████████▊                     | 92 kB 9.0 MB/s eta 0:00:01\r\u001b[K     |████████████                    | 102 kB 7.4 MB/s eta 0:00:01\r\u001b[K     |█████████████▏                  | 112 kB 7.4 MB/s eta 0:00:01\r\u001b[K     |██████████████▍                 | 122 kB 7.4 MB/s eta 0:00:01\r\u001b[K     |███████████████▌                | 133 kB 7.4 MB/s eta 0:00:01\r\u001b[K     |████████████████▊               | 143 kB 7.4 MB/s eta 0:00:01\r\u001b[K     |██████████████████              | 153 kB 7.4 MB/s eta 0:00:01\r\u001b[K     |███████████████████▏            | 163 kB 7.4 MB/s eta 0:00:01\r\u001b[K     |████████████████████▎           | 174 kB 7.4 MB/s eta 0:00:01\r\u001b[K     |█████████████████████▌          | 184 kB 7.4 MB/s eta 0:00:01\r\u001b[K     |██████████████████████▊         | 194 kB 7.4 MB/s eta 0:00:01\r\u001b[K     |████████████████████████        | 204 kB 7.4 MB/s eta 0:00:01\r\u001b[K     |█████████████████████████       | 215 kB 7.4 MB/s eta 0:00:01\r\u001b[K     |██████████████████████████▎     | 225 kB 7.4 MB/s eta 0:00:01\r\u001b[K     |███████████████████████████▌    | 235 kB 7.4 MB/s eta 0:00:01\r\u001b[K     |████████████████████████████▊   | 245 kB 7.4 MB/s eta 0:00:01\r\u001b[K     |█████████████████████████████▉  | 256 kB 7.4 MB/s eta 0:00:01\r\u001b[K     |███████████████████████████████ | 266 kB 7.4 MB/s eta 0:00:01\r\u001b[K     |████████████████████████████████| 274 kB 7.4 MB/s \n",
            "\u001b[?25hBuilding wheels for collected packages: pyyaml\n",
            "  Building wheel for pyyaml (setup.py) ... \u001b[?25l\u001b[?25hdone\n",
            "  Created wheel for pyyaml: filename=PyYAML-5.1-cp37-cp37m-linux_x86_64.whl size=44091 sha256=488a24ea2ac78ef9f7d0df64fb5fb8c258eb45789f0ade07760b5f25e40079bf\n",
            "  Stored in directory: /root/.cache/pip/wheels/77/f5/10/d00a2bd30928b972790053b5de0c703ca87324f3fead0f2fd9\n",
            "Successfully built pyyaml\n",
            "Installing collected packages: pyyaml\n",
            "  Attempting uninstall: pyyaml\n",
            "    Found existing installation: PyYAML 3.13\n",
            "    Uninstalling PyYAML-3.13:\n",
            "      Successfully uninstalled PyYAML-3.13\n",
            "Successfully installed pyyaml-5.1\n",
            "Collecting torch==1.8.1\n",
            "  Downloading torch-1.8.1-cp37-cp37m-manylinux1_x86_64.whl (804.1 MB)\n",
            "\u001b[K     |████████████████████████████████| 804.1 MB 2.8 kB/s \n",
            "\u001b[?25hCollecting torchvision==0.9.1\n",
            "  Downloading torchvision-0.9.1-cp37-cp37m-manylinux1_x86_64.whl (17.4 MB)\n",
            "\u001b[K     |████████████████████████████████| 17.4 MB 1.4 MB/s \n",
            "\u001b[?25hCollecting torchtext===0.9.1\n",
            "  Downloading torchtext-0.9.1-cp37-cp37m-manylinux1_x86_64.whl (7.1 MB)\n",
            "\u001b[K     |████████████████████████████████| 7.1 MB 26.7 MB/s \n",
            "\u001b[?25hRequirement already satisfied: typing-extensions in /usr/local/lib/python3.7/dist-packages (from torch==1.8.1) (3.7.4.3)\n",
            "Requirement already satisfied: numpy in /usr/local/lib/python3.7/dist-packages (from torch==1.8.1) (1.19.5)\n",
            "Requirement already satisfied: pillow>=4.1.1 in /usr/local/lib/python3.7/dist-packages (from torchvision==0.9.1) (7.1.2)\n",
            "Requirement already satisfied: requests in /usr/local/lib/python3.7/dist-packages (from torchtext===0.9.1) (2.23.0)\n",
            "Requirement already satisfied: tqdm in /usr/local/lib/python3.7/dist-packages (from torchtext===0.9.1) (4.41.1)\n",
            "Requirement already satisfied: urllib3!=1.25.0,!=1.25.1,<1.26,>=1.21.1 in /usr/local/lib/python3.7/dist-packages (from requests->torchtext===0.9.1) (1.24.3)\n",
            "Requirement already satisfied: chardet<4,>=3.0.2 in /usr/local/lib/python3.7/dist-packages (from requests->torchtext===0.9.1) (3.0.4)\n",
            "Requirement already satisfied: idna<3,>=2.5 in /usr/local/lib/python3.7/dist-packages (from requests->torchtext===0.9.1) (2.10)\n",
            "Requirement already satisfied: certifi>=2017.4.17 in /usr/local/lib/python3.7/dist-packages (from requests->torchtext===0.9.1) (2021.5.30)\n",
            "Installing collected packages: torch, torchvision, torchtext\n",
            "  Attempting uninstall: torch\n",
            "    Found existing installation: torch 1.9.0+cu102\n",
            "    Uninstalling torch-1.9.0+cu102:\n",
            "      Successfully uninstalled torch-1.9.0+cu102\n",
            "  Attempting uninstall: torchvision\n",
            "    Found existing installation: torchvision 0.10.0+cu102\n",
            "    Uninstalling torchvision-0.10.0+cu102:\n",
            "      Successfully uninstalled torchvision-0.10.0+cu102\n",
            "  Attempting uninstall: torchtext\n",
            "    Found existing installation: torchtext 0.10.0\n",
            "    Uninstalling torchtext-0.10.0:\n",
            "      Successfully uninstalled torchtext-0.10.0\n",
            "Successfully installed torch-1.8.1 torchtext-0.9.1 torchvision-0.9.1\n",
            "1.8.1+cu102 True\n"
          ],
          "name": "stdout"
        }
      ]
    },
    {
      "cell_type": "code",
      "metadata": {
        "id": "b-i4hmGYk1dL",
        "colab": {
          "base_uri": "https://localhost:8080/",
          "height": 1000
        },
        "outputId": "464df082-f52d-4db9-f4ec-5da4a5d48935"
      },
      "source": [
        "# install detectron2: (Colab has CUDA 10.1 + torch 1.8)\n",
        "import torch\n",
        "assert torch.__version__.startswith(\"1.8\")   # need to manually install torch 1.8 if Colab changes its default version\n",
        "!pip install detectron2 -f https://dl.fbaipublicfiles.com/detectron2/wheels/cu101/torch1.8/index.html"
      ],
      "execution_count": 2,
      "outputs": [
        {
          "output_type": "stream",
          "text": [
            "Looking in links: https://dl.fbaipublicfiles.com/detectron2/wheels/cu101/torch1.8/index.html\n",
            "Collecting detectron2\n",
            "  Downloading https://dl.fbaipublicfiles.com/detectron2/wheels/cu101/torch1.8/detectron2-0.5%2Bcu101-cp37-cp37m-linux_x86_64.whl (6.3 MB)\n",
            "\u001b[K     |████████████████████████████████| 6.3 MB 1.7 MB/s \n",
            "\u001b[?25hCollecting omegaconf>=2.1\n",
            "  Downloading omegaconf-2.1.0-py3-none-any.whl (74 kB)\n",
            "\u001b[K     |████████████████████████████████| 74 kB 2.7 MB/s \n",
            "\u001b[?25hCollecting iopath<0.1.9,>=0.1.7\n",
            "  Downloading iopath-0.1.8-py3-none-any.whl (19 kB)\n",
            "Requirement already satisfied: pycocotools>=2.0.2 in /usr/local/lib/python3.7/dist-packages (from detectron2) (2.0.2)\n",
            "Requirement already satisfied: cloudpickle in /usr/local/lib/python3.7/dist-packages (from detectron2) (1.3.0)\n",
            "Collecting hydra-core>=1.1\n",
            "  Downloading hydra_core-1.1.0-py3-none-any.whl (144 kB)\n",
            "\u001b[K     |████████████████████████████████| 144 kB 11.9 MB/s \n",
            "\u001b[?25hRequirement already satisfied: future in /usr/local/lib/python3.7/dist-packages (from detectron2) (0.16.0)\n",
            "Requirement already satisfied: tabulate in /usr/local/lib/python3.7/dist-packages (from detectron2) (0.8.9)\n",
            "Requirement already satisfied: termcolor>=1.1 in /usr/local/lib/python3.7/dist-packages (from detectron2) (1.1.0)\n",
            "Collecting black==21.4b2\n",
            "  Downloading black-21.4b2-py3-none-any.whl (130 kB)\n",
            "\u001b[K     |████████████████████████████████| 130 kB 12.0 MB/s \n",
            "\u001b[?25hRequirement already satisfied: tqdm>4.29.0 in /usr/local/lib/python3.7/dist-packages (from detectron2) (4.41.1)\n",
            "Collecting fvcore<0.1.6,>=0.1.5\n",
            "  Downloading fvcore-0.1.5.post20210804.tar.gz (49 kB)\n",
            "\u001b[K     |████████████████████████████████| 49 kB 5.8 MB/s \n",
            "\u001b[?25hRequirement already satisfied: tensorboard in /usr/local/lib/python3.7/dist-packages (from detectron2) (2.5.0)\n",
            "Requirement already satisfied: Pillow>=7.1 in /usr/local/lib/python3.7/dist-packages (from detectron2) (7.1.2)\n",
            "Collecting yacs>=0.1.6\n",
            "  Downloading yacs-0.1.8-py3-none-any.whl (14 kB)\n",
            "Requirement already satisfied: pydot in /usr/local/lib/python3.7/dist-packages (from detectron2) (1.3.0)\n",
            "Requirement already satisfied: matplotlib in /usr/local/lib/python3.7/dist-packages (from detectron2) (3.2.2)\n",
            "Requirement already satisfied: click>=7.1.2 in /usr/local/lib/python3.7/dist-packages (from black==21.4b2->detectron2) (7.1.2)\n",
            "Collecting regex>=2020.1.8\n",
            "  Downloading regex-2021.8.3-cp37-cp37m-manylinux_2_17_x86_64.manylinux2014_x86_64.whl (722 kB)\n",
            "\u001b[K     |████████████████████████████████| 722 kB 12.5 MB/s \n",
            "\u001b[?25hCollecting mypy-extensions>=0.4.3\n",
            "  Downloading mypy_extensions-0.4.3-py2.py3-none-any.whl (4.5 kB)\n",
            "Requirement already satisfied: typing-extensions>=3.7.4 in /usr/local/lib/python3.7/dist-packages (from black==21.4b2->detectron2) (3.7.4.3)\n",
            "Collecting typed-ast>=1.4.2\n",
            "  Downloading typed_ast-1.4.3-cp37-cp37m-manylinux1_x86_64.whl (743 kB)\n",
            "\u001b[K     |████████████████████████████████| 743 kB 19.8 MB/s \n",
            "\u001b[?25hRequirement already satisfied: appdirs in /usr/local/lib/python3.7/dist-packages (from black==21.4b2->detectron2) (1.4.4)\n",
            "Collecting pathspec<1,>=0.8.1\n",
            "  Downloading pathspec-0.9.0-py2.py3-none-any.whl (31 kB)\n",
            "Requirement already satisfied: toml>=0.10.1 in /usr/local/lib/python3.7/dist-packages (from black==21.4b2->detectron2) (0.10.2)\n",
            "Requirement already satisfied: numpy in /usr/local/lib/python3.7/dist-packages (from fvcore<0.1.6,>=0.1.5->detectron2) (1.19.5)\n",
            "Requirement already satisfied: pyyaml>=5.1 in /usr/local/lib/python3.7/dist-packages (from fvcore<0.1.6,>=0.1.5->detectron2) (5.1)\n",
            "Collecting antlr4-python3-runtime==4.8\n",
            "  Downloading antlr4-python3-runtime-4.8.tar.gz (112 kB)\n",
            "\u001b[K     |████████████████████████████████| 112 kB 38.2 MB/s \n",
            "\u001b[?25hRequirement already satisfied: importlib-resources in /usr/local/lib/python3.7/dist-packages (from hydra-core>=1.1->detectron2) (5.2.0)\n",
            "Collecting portalocker\n",
            "  Downloading portalocker-2.3.0-py2.py3-none-any.whl (15 kB)\n",
            "Requirement already satisfied: cython>=0.27.3 in /usr/local/lib/python3.7/dist-packages (from pycocotools>=2.0.2->detectron2) (0.29.23)\n",
            "Requirement already satisfied: setuptools>=18.0 in /usr/local/lib/python3.7/dist-packages (from pycocotools>=2.0.2->detectron2) (57.2.0)\n",
            "Requirement already satisfied: python-dateutil>=2.1 in /usr/local/lib/python3.7/dist-packages (from matplotlib->detectron2) (2.8.1)\n",
            "Requirement already satisfied: cycler>=0.10 in /usr/local/lib/python3.7/dist-packages (from matplotlib->detectron2) (0.10.0)\n",
            "Requirement already satisfied: pyparsing!=2.0.4,!=2.1.2,!=2.1.6,>=2.0.1 in /usr/local/lib/python3.7/dist-packages (from matplotlib->detectron2) (2.4.7)\n",
            "Requirement already satisfied: kiwisolver>=1.0.1 in /usr/local/lib/python3.7/dist-packages (from matplotlib->detectron2) (1.3.1)\n",
            "Requirement already satisfied: six in /usr/local/lib/python3.7/dist-packages (from cycler>=0.10->matplotlib->detectron2) (1.15.0)\n",
            "Requirement already satisfied: zipp>=3.1.0 in /usr/local/lib/python3.7/dist-packages (from importlib-resources->hydra-core>=1.1->detectron2) (3.5.0)\n",
            "Requirement already satisfied: werkzeug>=0.11.15 in /usr/local/lib/python3.7/dist-packages (from tensorboard->detectron2) (1.0.1)\n",
            "Requirement already satisfied: tensorboard-data-server<0.7.0,>=0.6.0 in /usr/local/lib/python3.7/dist-packages (from tensorboard->detectron2) (0.6.1)\n",
            "Requirement already satisfied: absl-py>=0.4 in /usr/local/lib/python3.7/dist-packages (from tensorboard->detectron2) (0.12.0)\n",
            "Requirement already satisfied: tensorboard-plugin-wit>=1.6.0 in /usr/local/lib/python3.7/dist-packages (from tensorboard->detectron2) (1.8.0)\n",
            "Requirement already satisfied: protobuf>=3.6.0 in /usr/local/lib/python3.7/dist-packages (from tensorboard->detectron2) (3.17.3)\n",
            "Requirement already satisfied: requests<3,>=2.21.0 in /usr/local/lib/python3.7/dist-packages (from tensorboard->detectron2) (2.23.0)\n",
            "Requirement already satisfied: google-auth<2,>=1.6.3 in /usr/local/lib/python3.7/dist-packages (from tensorboard->detectron2) (1.32.1)\n",
            "Requirement already satisfied: markdown>=2.6.8 in /usr/local/lib/python3.7/dist-packages (from tensorboard->detectron2) (3.3.4)\n",
            "Requirement already satisfied: grpcio>=1.24.3 in /usr/local/lib/python3.7/dist-packages (from tensorboard->detectron2) (1.34.1)\n",
            "Requirement already satisfied: wheel>=0.26 in /usr/local/lib/python3.7/dist-packages (from tensorboard->detectron2) (0.36.2)\n",
            "Requirement already satisfied: google-auth-oauthlib<0.5,>=0.4.1 in /usr/local/lib/python3.7/dist-packages (from tensorboard->detectron2) (0.4.4)\n",
            "Requirement already satisfied: pyasn1-modules>=0.2.1 in /usr/local/lib/python3.7/dist-packages (from google-auth<2,>=1.6.3->tensorboard->detectron2) (0.2.8)\n",
            "Requirement already satisfied: cachetools<5.0,>=2.0.0 in /usr/local/lib/python3.7/dist-packages (from google-auth<2,>=1.6.3->tensorboard->detectron2) (4.2.2)\n",
            "Requirement already satisfied: rsa<5,>=3.1.4 in /usr/local/lib/python3.7/dist-packages (from google-auth<2,>=1.6.3->tensorboard->detectron2) (4.7.2)\n",
            "Requirement already satisfied: requests-oauthlib>=0.7.0 in /usr/local/lib/python3.7/dist-packages (from google-auth-oauthlib<0.5,>=0.4.1->tensorboard->detectron2) (1.3.0)\n",
            "Requirement already satisfied: importlib-metadata in /usr/local/lib/python3.7/dist-packages (from markdown>=2.6.8->tensorboard->detectron2) (4.6.1)\n",
            "Requirement already satisfied: pyasn1<0.5.0,>=0.4.6 in /usr/local/lib/python3.7/dist-packages (from pyasn1-modules>=0.2.1->google-auth<2,>=1.6.3->tensorboard->detectron2) (0.4.8)\n",
            "Requirement already satisfied: chardet<4,>=3.0.2 in /usr/local/lib/python3.7/dist-packages (from requests<3,>=2.21.0->tensorboard->detectron2) (3.0.4)\n",
            "Requirement already satisfied: urllib3!=1.25.0,!=1.25.1,<1.26,>=1.21.1 in /usr/local/lib/python3.7/dist-packages (from requests<3,>=2.21.0->tensorboard->detectron2) (1.24.3)\n",
            "Requirement already satisfied: idna<3,>=2.5 in /usr/local/lib/python3.7/dist-packages (from requests<3,>=2.21.0->tensorboard->detectron2) (2.10)\n",
            "Requirement already satisfied: certifi>=2017.4.17 in /usr/local/lib/python3.7/dist-packages (from requests<3,>=2.21.0->tensorboard->detectron2) (2021.5.30)\n",
            "Requirement already satisfied: oauthlib>=3.0.0 in /usr/local/lib/python3.7/dist-packages (from requests-oauthlib>=0.7.0->google-auth-oauthlib<0.5,>=0.4.1->tensorboard->detectron2) (3.1.1)\n",
            "Building wheels for collected packages: fvcore, antlr4-python3-runtime\n",
            "  Building wheel for fvcore (setup.py) ... \u001b[?25l\u001b[?25hdone\n",
            "  Created wheel for fvcore: filename=fvcore-0.1.5.post20210804-py3-none-any.whl size=60618 sha256=d226dae64ee853db8f89bcf6b7f5d40197c16689443425de4d4201e906f82052\n",
            "  Stored in directory: /root/.cache/pip/wheels/1d/e2/fe/67887e71552be741faccead8f7a8e013b6e0b1225cf591afa1\n",
            "  Building wheel for antlr4-python3-runtime (setup.py) ... \u001b[?25l\u001b[?25hdone\n",
            "  Created wheel for antlr4-python3-runtime: filename=antlr4_python3_runtime-4.8-py3-none-any.whl size=141229 sha256=874731f3ff3157126806c5ca14e195f09219dea4f943f0e8e315277ec7b3602b\n",
            "  Stored in directory: /root/.cache/pip/wheels/ca/33/b7/336836125fc9bb4ceaa4376d8abca10ca8bc84ddc824baea6c\n",
            "Successfully built fvcore antlr4-python3-runtime\n",
            "Installing collected packages: portalocker, antlr4-python3-runtime, yacs, typed-ast, regex, pathspec, omegaconf, mypy-extensions, iopath, hydra-core, fvcore, black, detectron2\n",
            "  Attempting uninstall: regex\n",
            "    Found existing installation: regex 2019.12.20\n",
            "    Uninstalling regex-2019.12.20:\n",
            "      Successfully uninstalled regex-2019.12.20\n",
            "Successfully installed antlr4-python3-runtime-4.8 black-21.4b2 detectron2-0.5+cu101 fvcore-0.1.5.post20210804 hydra-core-1.1.0 iopath-0.1.8 mypy-extensions-0.4.3 omegaconf-2.1.0 pathspec-0.9.0 portalocker-2.3.0 regex-2021.8.3 typed-ast-1.4.3 yacs-0.1.8\n"
          ],
          "name": "stdout"
        },
        {
          "output_type": "display_data",
          "data": {
            "application/vnd.colab-display-data+json": {
              "pip_warning": {
                "packages": [
                  "pydevd_plugins"
                ]
              }
            }
          },
          "metadata": {
            "tags": []
          }
        }
      ]
    },
    {
      "cell_type": "code",
      "metadata": {
        "id": "ZyAvNCJMmvFF"
      },
      "source": [
        "# Basic setup:\n",
        "# Setup detectron2 logger\n",
        "import detectron2\n",
        "from detectron2.utils.logger import setup_logger\n",
        "setup_logger()\n",
        "\n",
        "# import some common libraries\n",
        "import numpy as np\n",
        "import os, json, cv2, random\n",
        "from google.colab.patches import cv2_imshow\n",
        "\n",
        "# import some common detectron2 utilities\n",
        "from detectron2 import model_zoo\n",
        "from detectron2.engine import DefaultPredictor\n",
        "from detectron2.config import get_cfg\n",
        "from detectron2.utils.visualizer import Visualizer\n",
        "from detectron2.data import MetadataCatalog, DatasetCatalog"
      ],
      "execution_count": 3,
      "outputs": []
    },
    {
      "cell_type": "markdown",
      "metadata": {
        "id": "b2bjrfb2LDeo"
      },
      "source": [
        "# Prepare the dataset\n"
      ]
    },
    {
      "cell_type": "code",
      "metadata": {
        "id": "RDrEPKZjWsvZ",
        "colab": {
          "base_uri": "https://localhost:8080/"
        },
        "outputId": "903dbb34-161a-49d5-837c-a6e71bc7a0a4"
      },
      "source": [
        "from google.colab import drive\n",
        "drive.flush_and_unmount()\n",
        "drive.mount('/content/drive')"
      ],
      "execution_count": 4,
      "outputs": [
        {
          "output_type": "stream",
          "text": [
            "Drive not mounted, so nothing to flush and unmount.\n",
            "Mounted at /content/drive\n"
          ],
          "name": "stdout"
        }
      ]
    },
    {
      "cell_type": "code",
      "metadata": {
        "id": "nVy8KwRALrcc"
      },
      "source": [
        "!rm -rf train \n",
        "!rm -rf validation \n",
        "!rm -rf test"
      ],
      "execution_count": 5,
      "outputs": []
    },
    {
      "cell_type": "code",
      "metadata": {
        "id": "VazPEs73Xhz2",
        "colab": {
          "base_uri": "https://localhost:8080/"
        },
        "outputId": "d351f642-9dd9-41ea-a846-367188e90d5a"
      },
      "source": [
        "# Unzip the training and test dataset quietly\n",
        "!echo \"Unzipping training set\"\n",
        "!unzip -q '/content/drive/MyDrive/Colab Notebooks/datasets/visdrone/train.zip' -d '/content'\n",
        "!echo \"Done!\"\n",
        "\n",
        "!echo \"Unzipping validation set\"\n",
        "!unzip -q '/content/drive/MyDrive/Colab Notebooks/datasets/visdrone/validation.zip' -d '/content'\n",
        "!echo \"Done!\"\n",
        "\n",
        "!echo \"Unzipping test set\"\n",
        "!unzip -q '/content/drive/MyDrive/Colab Notebooks/datasets/visdrone/test.zip' -d '/content'\n",
        "!echo \"Done!\""
      ],
      "execution_count": 6,
      "outputs": [
        {
          "output_type": "stream",
          "text": [
            "Unzipping training set\n",
            "Done!\n",
            "Unzipping validation set\n",
            "Done!\n",
            "Unzipping test set\n",
            "Done!\n"
          ],
          "name": "stdout"
        }
      ]
    },
    {
      "cell_type": "code",
      "metadata": {
        "id": "oY9jjVyBXxV-"
      },
      "source": [
        "from detectron2.data.datasets import register_coco_instances\n",
        "\n",
        "#Register the training and test custom datasets (COCO format)\n",
        "if 'visdrone_train' in DatasetCatalog.list():\n",
        "  DatasetCatalog.remove(\"visdrone_train\")\n",
        "if 'visdrone_validation' in DatasetCatalog.list():\n",
        "  DatasetCatalog.remove(\"visdrone_validation\")\n",
        "if 'visdrone_test' in DatasetCatalog.list():\n",
        "  DatasetCatalog.remove(\"visdrone_test\")\n",
        "\n",
        "register_coco_instances(\"visdrone_train\", {}, \"/content/train/annotations.json\", \"/content/train/images\")\n",
        "register_coco_instances(\"visdrone_validation\", {}, \"/content/validation/annotations.json\", \"/content/validation/images\")\n",
        "register_coco_instances(\"visdrone_test\", {}, \"/content/test/annotations.json\", \"/content/test/images\")"
      ],
      "execution_count": 7,
      "outputs": []
    },
    {
      "cell_type": "markdown",
      "metadata": {
        "id": "6ljbWTX0Wi8E"
      },
      "source": [
        "Verify that the training dataset loaded correctly. Visualise a few random images with their ground truths.\n"
      ]
    },
    {
      "cell_type": "code",
      "metadata": {
        "id": "rupd5T1f0efS",
        "colab": {
          "base_uri": "https://localhost:8080/"
        },
        "outputId": "ea2685f6-b1fb-4240-a1fb-416ded3c60da"
      },
      "source": [
        "train_dataset_dicts = DatasetCatalog.get(\"visdrone_train\")\n",
        "train_metadata = MetadataCatalog.get(\"visdrone_train\")"
      ],
      "execution_count": 8,
      "outputs": [
        {
          "output_type": "stream",
          "text": [
            "\u001b[32m[08/10 05:16:06 d2.data.datasets.coco]: \u001b[0mLoading /content/train/annotations.json takes 2.00 seconds.\n",
            "\u001b[32m[08/10 05:16:07 d2.data.datasets.coco]: \u001b[0mLoaded 6471 images in COCO format from /content/train/annotations.json\n"
          ],
          "name": "stdout"
        }
      ]
    },
    {
      "cell_type": "markdown",
      "metadata": {
        "id": "9OYNmczL7UNO"
      },
      "source": [
        "Verify if validation dataset loads correctly. Visualise a few random images with their ground truths.\n"
      ]
    },
    {
      "cell_type": "code",
      "metadata": {
        "id": "v_kFkOfIZc01",
        "colab": {
          "base_uri": "https://localhost:8080/"
        },
        "outputId": "1c927b90-a100-4fca-81dd-6f446c558e48"
      },
      "source": [
        "validation_dataset_dicts = DatasetCatalog.get(\"visdrone_validation\")\n",
        "validation_metadata = MetadataCatalog.get(\"visdrone_validation\")"
      ],
      "execution_count": 9,
      "outputs": [
        {
          "output_type": "stream",
          "text": [
            "\u001b[32m[08/10 05:16:08 d2.data.datasets.coco]: \u001b[0mLoaded 548 images in COCO format from /content/validation/annotations.json\n"
          ],
          "name": "stdout"
        }
      ]
    },
    {
      "cell_type": "markdown",
      "metadata": {
        "id": "wlqXIXXhW8dA"
      },
      "source": [
        "## Training\n",
        "\n",
        "Now, let's fine-tune a COCO-pretrained R50-C4 Faster R-CNN model on the training dataset."
      ]
    },
    {
      "cell_type": "code",
      "metadata": {
        "id": "7unkuuiqLdqd",
        "colab": {
          "base_uri": "https://localhost:8080/"
        },
        "outputId": "1e7f3aec-fe94-4b66-fbf0-4be197319233"
      },
      "source": [
        "from detectron2.engine import HookBase\n",
        "from detectron2.data import build_detection_train_loader\n",
        "from detectron2.engine import DefaultTrainer\n",
        "import detectron2.utils.comm as comm\n",
        "\n",
        "# Get default config for the specified model from Model Zoo, customize certain parameters\n",
        "_config_file = \"COCO-Detection/faster_rcnn_R_50_FPN_3x.yaml\"\n",
        "\n",
        "cfg = get_cfg()\n",
        "cfg.merge_from_file(model_zoo.get_config_file(_config_file))\n",
        "cfg.DATASETS.TRAIN = (\"visdrone_train\",)\n",
        "cfg.DATASETS.VAL = (\"visdrone_validation\",)\n",
        "cfg.DATASETS.TEST = (\"visdrone_validation\",) \n",
        "\n",
        "# Add a custom hook to measure loss periodically on a validation dataset. \n",
        "class ValidationLoss(HookBase):\n",
        "    def __init__(self, cfg):\n",
        "        super().__init__()\n",
        "        self.cfg = cfg.clone()\n",
        "        self.cfg.DATASETS.TRAIN = cfg.DATASETS.VAL\n",
        "        self._loader = iter(build_detection_train_loader(self.cfg))\n",
        "        \n",
        "    def after_step(self):\n",
        "        data = next(self._loader)\n",
        "        with torch.no_grad():\n",
        "            loss_dict = self.trainer.model(data)\n",
        "            \n",
        "            losses = sum(loss_dict.values())\n",
        "            assert torch.isfinite(losses).all(), loss_dict\n",
        "\n",
        "            loss_dict_reduced = {\"val_\" + k: v.item() for k, v in \n",
        "                                 comm.reduce_dict(loss_dict).items()}\n",
        "            losses_reduced = sum(loss for loss in loss_dict_reduced.values())\n",
        "            if comm.is_main_process():\n",
        "                self.trainer.storage.put_scalars(total_val_loss=losses_reduced, \n",
        "                                                 **loss_dict_reduced)\n",
        "\n",
        "# Rest of the config\n",
        "cfg.DATALOADER.NUM_WORKERS = 2\n",
        "cfg.MODEL.WEIGHTS = model_zoo.get_checkpoint_url(_config_file)  # Let training initialize from model zoo\n",
        "cfg.SOLVER.IMS_PER_BATCH = 2\n",
        "cfg.SOLVER.BASE_LR = 0.00025\n",
        "cfg.SOLVER.MAX_ITER = 12000\n",
        "cfg.TEST.EVAL_PERIOD = 100\n",
        "cfg.SOLVER.STEPS = []        # do not decay learning rate\n",
        "cfg.MODEL.ROI_HEADS.BATCH_SIZE_PER_IMAGE = 128   # faster, and good enough for this toy dataset (default: 512)\n",
        "cfg.MODEL.ROI_HEADS.NUM_CLASSES = 12\n",
        "\n",
        "os.makedirs(cfg.OUTPUT_DIR, exist_ok=True)\n",
        "trainer = DefaultTrainer(cfg) \n",
        "val_loss = ValidationLoss(cfg)  \n",
        "trainer.register_hooks([val_loss])\n",
        "# swap the order of PeriodicWriter and ValidationLoss\n",
        "trainer._hooks = trainer._hooks[:-2] + trainer._hooks[-2:][::-1]"
      ],
      "execution_count": 39,
      "outputs": [
        {
          "output_type": "stream",
          "text": [
            "\u001b[32m[08/10 06:17:28 d2.engine.defaults]: \u001b[0mModel:\n",
            "GeneralizedRCNN(\n",
            "  (backbone): FPN(\n",
            "    (fpn_lateral2): Conv2d(256, 256, kernel_size=(1, 1), stride=(1, 1))\n",
            "    (fpn_output2): Conv2d(256, 256, kernel_size=(3, 3), stride=(1, 1), padding=(1, 1))\n",
            "    (fpn_lateral3): Conv2d(512, 256, kernel_size=(1, 1), stride=(1, 1))\n",
            "    (fpn_output3): Conv2d(256, 256, kernel_size=(3, 3), stride=(1, 1), padding=(1, 1))\n",
            "    (fpn_lateral4): Conv2d(1024, 256, kernel_size=(1, 1), stride=(1, 1))\n",
            "    (fpn_output4): Conv2d(256, 256, kernel_size=(3, 3), stride=(1, 1), padding=(1, 1))\n",
            "    (fpn_lateral5): Conv2d(2048, 256, kernel_size=(1, 1), stride=(1, 1))\n",
            "    (fpn_output5): Conv2d(256, 256, kernel_size=(3, 3), stride=(1, 1), padding=(1, 1))\n",
            "    (top_block): LastLevelMaxPool()\n",
            "    (bottom_up): ResNet(\n",
            "      (stem): BasicStem(\n",
            "        (conv1): Conv2d(\n",
            "          3, 64, kernel_size=(7, 7), stride=(2, 2), padding=(3, 3), bias=False\n",
            "          (norm): FrozenBatchNorm2d(num_features=64, eps=1e-05)\n",
            "        )\n",
            "      )\n",
            "      (res2): Sequential(\n",
            "        (0): BottleneckBlock(\n",
            "          (shortcut): Conv2d(\n",
            "            64, 256, kernel_size=(1, 1), stride=(1, 1), bias=False\n",
            "            (norm): FrozenBatchNorm2d(num_features=256, eps=1e-05)\n",
            "          )\n",
            "          (conv1): Conv2d(\n",
            "            64, 64, kernel_size=(1, 1), stride=(1, 1), bias=False\n",
            "            (norm): FrozenBatchNorm2d(num_features=64, eps=1e-05)\n",
            "          )\n",
            "          (conv2): Conv2d(\n",
            "            64, 64, kernel_size=(3, 3), stride=(1, 1), padding=(1, 1), bias=False\n",
            "            (norm): FrozenBatchNorm2d(num_features=64, eps=1e-05)\n",
            "          )\n",
            "          (conv3): Conv2d(\n",
            "            64, 256, kernel_size=(1, 1), stride=(1, 1), bias=False\n",
            "            (norm): FrozenBatchNorm2d(num_features=256, eps=1e-05)\n",
            "          )\n",
            "        )\n",
            "        (1): BottleneckBlock(\n",
            "          (conv1): Conv2d(\n",
            "            256, 64, kernel_size=(1, 1), stride=(1, 1), bias=False\n",
            "            (norm): FrozenBatchNorm2d(num_features=64, eps=1e-05)\n",
            "          )\n",
            "          (conv2): Conv2d(\n",
            "            64, 64, kernel_size=(3, 3), stride=(1, 1), padding=(1, 1), bias=False\n",
            "            (norm): FrozenBatchNorm2d(num_features=64, eps=1e-05)\n",
            "          )\n",
            "          (conv3): Conv2d(\n",
            "            64, 256, kernel_size=(1, 1), stride=(1, 1), bias=False\n",
            "            (norm): FrozenBatchNorm2d(num_features=256, eps=1e-05)\n",
            "          )\n",
            "        )\n",
            "        (2): BottleneckBlock(\n",
            "          (conv1): Conv2d(\n",
            "            256, 64, kernel_size=(1, 1), stride=(1, 1), bias=False\n",
            "            (norm): FrozenBatchNorm2d(num_features=64, eps=1e-05)\n",
            "          )\n",
            "          (conv2): Conv2d(\n",
            "            64, 64, kernel_size=(3, 3), stride=(1, 1), padding=(1, 1), bias=False\n",
            "            (norm): FrozenBatchNorm2d(num_features=64, eps=1e-05)\n",
            "          )\n",
            "          (conv3): Conv2d(\n",
            "            64, 256, kernel_size=(1, 1), stride=(1, 1), bias=False\n",
            "            (norm): FrozenBatchNorm2d(num_features=256, eps=1e-05)\n",
            "          )\n",
            "        )\n",
            "      )\n",
            "      (res3): Sequential(\n",
            "        (0): BottleneckBlock(\n",
            "          (shortcut): Conv2d(\n",
            "            256, 512, kernel_size=(1, 1), stride=(2, 2), bias=False\n",
            "            (norm): FrozenBatchNorm2d(num_features=512, eps=1e-05)\n",
            "          )\n",
            "          (conv1): Conv2d(\n",
            "            256, 128, kernel_size=(1, 1), stride=(2, 2), bias=False\n",
            "            (norm): FrozenBatchNorm2d(num_features=128, eps=1e-05)\n",
            "          )\n",
            "          (conv2): Conv2d(\n",
            "            128, 128, kernel_size=(3, 3), stride=(1, 1), padding=(1, 1), bias=False\n",
            "            (norm): FrozenBatchNorm2d(num_features=128, eps=1e-05)\n",
            "          )\n",
            "          (conv3): Conv2d(\n",
            "            128, 512, kernel_size=(1, 1), stride=(1, 1), bias=False\n",
            "            (norm): FrozenBatchNorm2d(num_features=512, eps=1e-05)\n",
            "          )\n",
            "        )\n",
            "        (1): BottleneckBlock(\n",
            "          (conv1): Conv2d(\n",
            "            512, 128, kernel_size=(1, 1), stride=(1, 1), bias=False\n",
            "            (norm): FrozenBatchNorm2d(num_features=128, eps=1e-05)\n",
            "          )\n",
            "          (conv2): Conv2d(\n",
            "            128, 128, kernel_size=(3, 3), stride=(1, 1), padding=(1, 1), bias=False\n",
            "            (norm): FrozenBatchNorm2d(num_features=128, eps=1e-05)\n",
            "          )\n",
            "          (conv3): Conv2d(\n",
            "            128, 512, kernel_size=(1, 1), stride=(1, 1), bias=False\n",
            "            (norm): FrozenBatchNorm2d(num_features=512, eps=1e-05)\n",
            "          )\n",
            "        )\n",
            "        (2): BottleneckBlock(\n",
            "          (conv1): Conv2d(\n",
            "            512, 128, kernel_size=(1, 1), stride=(1, 1), bias=False\n",
            "            (norm): FrozenBatchNorm2d(num_features=128, eps=1e-05)\n",
            "          )\n",
            "          (conv2): Conv2d(\n",
            "            128, 128, kernel_size=(3, 3), stride=(1, 1), padding=(1, 1), bias=False\n",
            "            (norm): FrozenBatchNorm2d(num_features=128, eps=1e-05)\n",
            "          )\n",
            "          (conv3): Conv2d(\n",
            "            128, 512, kernel_size=(1, 1), stride=(1, 1), bias=False\n",
            "            (norm): FrozenBatchNorm2d(num_features=512, eps=1e-05)\n",
            "          )\n",
            "        )\n",
            "        (3): BottleneckBlock(\n",
            "          (conv1): Conv2d(\n",
            "            512, 128, kernel_size=(1, 1), stride=(1, 1), bias=False\n",
            "            (norm): FrozenBatchNorm2d(num_features=128, eps=1e-05)\n",
            "          )\n",
            "          (conv2): Conv2d(\n",
            "            128, 128, kernel_size=(3, 3), stride=(1, 1), padding=(1, 1), bias=False\n",
            "            (norm): FrozenBatchNorm2d(num_features=128, eps=1e-05)\n",
            "          )\n",
            "          (conv3): Conv2d(\n",
            "            128, 512, kernel_size=(1, 1), stride=(1, 1), bias=False\n",
            "            (norm): FrozenBatchNorm2d(num_features=512, eps=1e-05)\n",
            "          )\n",
            "        )\n",
            "      )\n",
            "      (res4): Sequential(\n",
            "        (0): BottleneckBlock(\n",
            "          (shortcut): Conv2d(\n",
            "            512, 1024, kernel_size=(1, 1), stride=(2, 2), bias=False\n",
            "            (norm): FrozenBatchNorm2d(num_features=1024, eps=1e-05)\n",
            "          )\n",
            "          (conv1): Conv2d(\n",
            "            512, 256, kernel_size=(1, 1), stride=(2, 2), bias=False\n",
            "            (norm): FrozenBatchNorm2d(num_features=256, eps=1e-05)\n",
            "          )\n",
            "          (conv2): Conv2d(\n",
            "            256, 256, kernel_size=(3, 3), stride=(1, 1), padding=(1, 1), bias=False\n",
            "            (norm): FrozenBatchNorm2d(num_features=256, eps=1e-05)\n",
            "          )\n",
            "          (conv3): Conv2d(\n",
            "            256, 1024, kernel_size=(1, 1), stride=(1, 1), bias=False\n",
            "            (norm): FrozenBatchNorm2d(num_features=1024, eps=1e-05)\n",
            "          )\n",
            "        )\n",
            "        (1): BottleneckBlock(\n",
            "          (conv1): Conv2d(\n",
            "            1024, 256, kernel_size=(1, 1), stride=(1, 1), bias=False\n",
            "            (norm): FrozenBatchNorm2d(num_features=256, eps=1e-05)\n",
            "          )\n",
            "          (conv2): Conv2d(\n",
            "            256, 256, kernel_size=(3, 3), stride=(1, 1), padding=(1, 1), bias=False\n",
            "            (norm): FrozenBatchNorm2d(num_features=256, eps=1e-05)\n",
            "          )\n",
            "          (conv3): Conv2d(\n",
            "            256, 1024, kernel_size=(1, 1), stride=(1, 1), bias=False\n",
            "            (norm): FrozenBatchNorm2d(num_features=1024, eps=1e-05)\n",
            "          )\n",
            "        )\n",
            "        (2): BottleneckBlock(\n",
            "          (conv1): Conv2d(\n",
            "            1024, 256, kernel_size=(1, 1), stride=(1, 1), bias=False\n",
            "            (norm): FrozenBatchNorm2d(num_features=256, eps=1e-05)\n",
            "          )\n",
            "          (conv2): Conv2d(\n",
            "            256, 256, kernel_size=(3, 3), stride=(1, 1), padding=(1, 1), bias=False\n",
            "            (norm): FrozenBatchNorm2d(num_features=256, eps=1e-05)\n",
            "          )\n",
            "          (conv3): Conv2d(\n",
            "            256, 1024, kernel_size=(1, 1), stride=(1, 1), bias=False\n",
            "            (norm): FrozenBatchNorm2d(num_features=1024, eps=1e-05)\n",
            "          )\n",
            "        )\n",
            "        (3): BottleneckBlock(\n",
            "          (conv1): Conv2d(\n",
            "            1024, 256, kernel_size=(1, 1), stride=(1, 1), bias=False\n",
            "            (norm): FrozenBatchNorm2d(num_features=256, eps=1e-05)\n",
            "          )\n",
            "          (conv2): Conv2d(\n",
            "            256, 256, kernel_size=(3, 3), stride=(1, 1), padding=(1, 1), bias=False\n",
            "            (norm): FrozenBatchNorm2d(num_features=256, eps=1e-05)\n",
            "          )\n",
            "          (conv3): Conv2d(\n",
            "            256, 1024, kernel_size=(1, 1), stride=(1, 1), bias=False\n",
            "            (norm): FrozenBatchNorm2d(num_features=1024, eps=1e-05)\n",
            "          )\n",
            "        )\n",
            "        (4): BottleneckBlock(\n",
            "          (conv1): Conv2d(\n",
            "            1024, 256, kernel_size=(1, 1), stride=(1, 1), bias=False\n",
            "            (norm): FrozenBatchNorm2d(num_features=256, eps=1e-05)\n",
            "          )\n",
            "          (conv2): Conv2d(\n",
            "            256, 256, kernel_size=(3, 3), stride=(1, 1), padding=(1, 1), bias=False\n",
            "            (norm): FrozenBatchNorm2d(num_features=256, eps=1e-05)\n",
            "          )\n",
            "          (conv3): Conv2d(\n",
            "            256, 1024, kernel_size=(1, 1), stride=(1, 1), bias=False\n",
            "            (norm): FrozenBatchNorm2d(num_features=1024, eps=1e-05)\n",
            "          )\n",
            "        )\n",
            "        (5): BottleneckBlock(\n",
            "          (conv1): Conv2d(\n",
            "            1024, 256, kernel_size=(1, 1), stride=(1, 1), bias=False\n",
            "            (norm): FrozenBatchNorm2d(num_features=256, eps=1e-05)\n",
            "          )\n",
            "          (conv2): Conv2d(\n",
            "            256, 256, kernel_size=(3, 3), stride=(1, 1), padding=(1, 1), bias=False\n",
            "            (norm): FrozenBatchNorm2d(num_features=256, eps=1e-05)\n",
            "          )\n",
            "          (conv3): Conv2d(\n",
            "            256, 1024, kernel_size=(1, 1), stride=(1, 1), bias=False\n",
            "            (norm): FrozenBatchNorm2d(num_features=1024, eps=1e-05)\n",
            "          )\n",
            "        )\n",
            "      )\n",
            "      (res5): Sequential(\n",
            "        (0): BottleneckBlock(\n",
            "          (shortcut): Conv2d(\n",
            "            1024, 2048, kernel_size=(1, 1), stride=(2, 2), bias=False\n",
            "            (norm): FrozenBatchNorm2d(num_features=2048, eps=1e-05)\n",
            "          )\n",
            "          (conv1): Conv2d(\n",
            "            1024, 512, kernel_size=(1, 1), stride=(2, 2), bias=False\n",
            "            (norm): FrozenBatchNorm2d(num_features=512, eps=1e-05)\n",
            "          )\n",
            "          (conv2): Conv2d(\n",
            "            512, 512, kernel_size=(3, 3), stride=(1, 1), padding=(1, 1), bias=False\n",
            "            (norm): FrozenBatchNorm2d(num_features=512, eps=1e-05)\n",
            "          )\n",
            "          (conv3): Conv2d(\n",
            "            512, 2048, kernel_size=(1, 1), stride=(1, 1), bias=False\n",
            "            (norm): FrozenBatchNorm2d(num_features=2048, eps=1e-05)\n",
            "          )\n",
            "        )\n",
            "        (1): BottleneckBlock(\n",
            "          (conv1): Conv2d(\n",
            "            2048, 512, kernel_size=(1, 1), stride=(1, 1), bias=False\n",
            "            (norm): FrozenBatchNorm2d(num_features=512, eps=1e-05)\n",
            "          )\n",
            "          (conv2): Conv2d(\n",
            "            512, 512, kernel_size=(3, 3), stride=(1, 1), padding=(1, 1), bias=False\n",
            "            (norm): FrozenBatchNorm2d(num_features=512, eps=1e-05)\n",
            "          )\n",
            "          (conv3): Conv2d(\n",
            "            512, 2048, kernel_size=(1, 1), stride=(1, 1), bias=False\n",
            "            (norm): FrozenBatchNorm2d(num_features=2048, eps=1e-05)\n",
            "          )\n",
            "        )\n",
            "        (2): BottleneckBlock(\n",
            "          (conv1): Conv2d(\n",
            "            2048, 512, kernel_size=(1, 1), stride=(1, 1), bias=False\n",
            "            (norm): FrozenBatchNorm2d(num_features=512, eps=1e-05)\n",
            "          )\n",
            "          (conv2): Conv2d(\n",
            "            512, 512, kernel_size=(3, 3), stride=(1, 1), padding=(1, 1), bias=False\n",
            "            (norm): FrozenBatchNorm2d(num_features=512, eps=1e-05)\n",
            "          )\n",
            "          (conv3): Conv2d(\n",
            "            512, 2048, kernel_size=(1, 1), stride=(1, 1), bias=False\n",
            "            (norm): FrozenBatchNorm2d(num_features=2048, eps=1e-05)\n",
            "          )\n",
            "        )\n",
            "      )\n",
            "    )\n",
            "  )\n",
            "  (proposal_generator): RPN(\n",
            "    (rpn_head): StandardRPNHead(\n",
            "      (conv): Conv2d(\n",
            "        256, 256, kernel_size=(3, 3), stride=(1, 1), padding=(1, 1)\n",
            "        (activation): ReLU()\n",
            "      )\n",
            "      (objectness_logits): Conv2d(256, 3, kernel_size=(1, 1), stride=(1, 1))\n",
            "      (anchor_deltas): Conv2d(256, 12, kernel_size=(1, 1), stride=(1, 1))\n",
            "    )\n",
            "    (anchor_generator): DefaultAnchorGenerator(\n",
            "      (cell_anchors): BufferList()\n",
            "    )\n",
            "  )\n",
            "  (roi_heads): StandardROIHeads(\n",
            "    (box_pooler): ROIPooler(\n",
            "      (level_poolers): ModuleList(\n",
            "        (0): ROIAlign(output_size=(7, 7), spatial_scale=0.25, sampling_ratio=0, aligned=True)\n",
            "        (1): ROIAlign(output_size=(7, 7), spatial_scale=0.125, sampling_ratio=0, aligned=True)\n",
            "        (2): ROIAlign(output_size=(7, 7), spatial_scale=0.0625, sampling_ratio=0, aligned=True)\n",
            "        (3): ROIAlign(output_size=(7, 7), spatial_scale=0.03125, sampling_ratio=0, aligned=True)\n",
            "      )\n",
            "    )\n",
            "    (box_head): FastRCNNConvFCHead(\n",
            "      (flatten): Flatten(start_dim=1, end_dim=-1)\n",
            "      (fc1): Linear(in_features=12544, out_features=1024, bias=True)\n",
            "      (fc_relu1): ReLU()\n",
            "      (fc2): Linear(in_features=1024, out_features=1024, bias=True)\n",
            "      (fc_relu2): ReLU()\n",
            "    )\n",
            "    (box_predictor): FastRCNNOutputLayers(\n",
            "      (cls_score): Linear(in_features=1024, out_features=13, bias=True)\n",
            "      (bbox_pred): Linear(in_features=1024, out_features=48, bias=True)\n",
            "    )\n",
            "  )\n",
            ")\n",
            "\u001b[32m[08/10 06:17:30 d2.data.datasets.coco]: \u001b[0mLoading /content/train/annotations.json takes 2.52 seconds.\n",
            "\u001b[32m[08/10 06:17:31 d2.data.datasets.coco]: \u001b[0mLoaded 6471 images in COCO format from /content/train/annotations.json\n",
            "\u001b[32m[08/10 06:17:32 d2.data.build]: \u001b[0mRemoved 0 images with no usable annotations. 6471 images left.\n",
            "\u001b[32m[08/10 06:17:33 d2.data.dataset_mapper]: \u001b[0m[DatasetMapper] Augmentations used in training: [ResizeShortestEdge(short_edge_length=(640, 672, 704, 736, 768, 800), max_size=1333, sample_style='choice'), RandomFlip()]\n",
            "\u001b[32m[08/10 06:17:33 d2.data.build]: \u001b[0mUsing training sampler TrainingSampler\n",
            "\u001b[32m[08/10 06:17:33 d2.data.common]: \u001b[0mSerializing 6471 elements to byte tensors and concatenating them all ...\n",
            "\u001b[32m[08/10 06:17:33 d2.data.common]: \u001b[0mSerialized dataset takes 11.55 MiB\n",
            "\u001b[32m[08/10 06:17:33 d2.data.datasets.coco]: \u001b[0mLoaded 548 images in COCO format from /content/validation/annotations.json\n",
            "\u001b[32m[08/10 06:17:33 d2.data.build]: \u001b[0mRemoved 0 images with no usable annotations. 548 images left.\n",
            "\u001b[32m[08/10 06:17:33 d2.data.dataset_mapper]: \u001b[0m[DatasetMapper] Augmentations used in training: [ResizeShortestEdge(short_edge_length=(640, 672, 704, 736, 768, 800), max_size=1333, sample_style='choice'), RandomFlip()]\n",
            "\u001b[32m[08/10 06:17:33 d2.data.build]: \u001b[0mUsing training sampler TrainingSampler\n",
            "\u001b[32m[08/10 06:17:33 d2.data.common]: \u001b[0mSerializing 548 elements to byte tensors and concatenating them all ...\n",
            "\u001b[32m[08/10 06:17:33 d2.data.common]: \u001b[0mSerialized dataset takes 1.26 MiB\n"
          ],
          "name": "stdout"
        }
      ]
    },
    {
      "cell_type": "markdown",
      "metadata": {
        "id": "0e4vdDIOXyxF"
      },
      "source": [
        "## Inference & evaluation using the trained model\n",
        "Now, let's run inference with the trained model on the balloon validation dataset. First, let's create a predictor using the model we just trained:\n",
        "\n"
      ]
    },
    {
      "cell_type": "code",
      "metadata": {
        "id": "PHs4QY-hK9qU"
      },
      "source": [
        "# Load trained models\n",
        "!rm ./output/model_final.pth\n",
        "!rm ./output/last_checkpoint\n",
        "!cp '/content/drive/MyDrive/Colab Notebooks/models/fpn50/model_final.pth' ./output/model_final.pth\n",
        "!cp '/content/drive/MyDrive/Colab Notebooks/models/fpn50/last_checkpoint' ./output/last_checkpoint"
      ],
      "execution_count": 40,
      "outputs": []
    },
    {
      "cell_type": "code",
      "metadata": {
        "colab": {
          "base_uri": "https://localhost:8080/"
        },
        "id": "LcLSlDRIh7iA",
        "outputId": "974055a0-705c-4574-daba-f890ec50b687"
      },
      "source": [
        "from detectron2.modeling import build_model\n",
        "model = build_model(cfg)\n",
        "\n",
        "from detectron2.checkpoint import DetectionCheckpointer\n",
        "DetectionCheckpointer(model).load(\"./output/model_final.pth\") "
      ],
      "execution_count": 41,
      "outputs": [
        {
          "output_type": "execute_result",
          "data": {
            "text/plain": [
              "{'iteration': 11999,\n",
              " 'trainer': {'hooks': {'LRScheduler': {'base_lrs': [0.00025,\n",
              "     0.00025,\n",
              "     0.00025,\n",
              "     0.00025,\n",
              "     0.00025,\n",
              "     0.00025,\n",
              "     0.00025,\n",
              "     0.00025,\n",
              "     0.00025,\n",
              "     0.00025,\n",
              "     0.00025,\n",
              "     0.00025,\n",
              "     0.00025,\n",
              "     0.00025,\n",
              "     0.00025,\n",
              "     0.00025,\n",
              "     0.00025,\n",
              "     0.00025,\n",
              "     0.00025,\n",
              "     0.00025,\n",
              "     0.00025,\n",
              "     0.00025,\n",
              "     0.00025,\n",
              "     0.00025,\n",
              "     0.00025,\n",
              "     0.00025,\n",
              "     0.00025,\n",
              "     0.00025,\n",
              "     0.00025,\n",
              "     0.00025,\n",
              "     0.00025,\n",
              "     0.00025,\n",
              "     0.00025,\n",
              "     0.00025,\n",
              "     0.00025,\n",
              "     0.00025,\n",
              "     0.00025,\n",
              "     0.00025,\n",
              "     0.00025,\n",
              "     0.00025,\n",
              "     0.00025,\n",
              "     0.00025,\n",
              "     0.00025,\n",
              "     0.00025,\n",
              "     0.00025,\n",
              "     0.00025,\n",
              "     0.00025,\n",
              "     0.00025,\n",
              "     0.00025,\n",
              "     0.00025,\n",
              "     0.00025,\n",
              "     0.00025,\n",
              "     0.00025,\n",
              "     0.00025,\n",
              "     0.00025,\n",
              "     0.00025,\n",
              "     0.00025,\n",
              "     0.00025,\n",
              "     0.00025,\n",
              "     0.00025,\n",
              "     0.00025,\n",
              "     0.00025,\n",
              "     0.00025,\n",
              "     0.00025,\n",
              "     0.00025,\n",
              "     0.00025,\n",
              "     0.00025,\n",
              "     0.00025,\n",
              "     0.00025,\n",
              "     0.00025,\n",
              "     0.00025,\n",
              "     0.00025],\n",
              "    'last_epoch': 12000}},\n",
              "  'iteration': 11999}}"
            ]
          },
          "metadata": {
            "tags": []
          },
          "execution_count": 41
        }
      ]
    },
    {
      "cell_type": "code",
      "metadata": {
        "id": "Ya5nEuMELeq8"
      },
      "source": [
        "# Inference should use the config with parameters that are used in training\n",
        "# cfg now already contains everything we've set previously. We changed it a little bit for inference:\n",
        "cfg.MODEL.WEIGHTS = os.path.join(cfg.OUTPUT_DIR, \"model_final.pth\")  # path to the model we just trained\n",
        "cfg.MODEL.ROI_HEADS.SCORE_THRESH_TEST = 0.6   # set a custom testing threshold\n",
        "predictor = DefaultPredictor(cfg)"
      ],
      "execution_count": 42,
      "outputs": []
    },
    {
      "cell_type": "markdown",
      "metadata": {
        "id": "qWq1XHfDWiXO"
      },
      "source": [
        "\n",
        "Then, we randomly select several samples to visualize the prediction results"
      ]
    },
    {
      "cell_type": "code",
      "metadata": {
        "id": "U5LhISJqWXgM"
      },
      "source": [
        "from detectron2.utils.visualizer import ColorMode\n",
        "\n",
        "test_dataset_dicts = DatasetCatalog.get(\"visdrone_test\")\n",
        "test_metadata = MetadataCatalog.get(\"visdrone_test\")\n",
        "\n",
        "indices = [30,780, 556, 778]\n",
        "for i in indices:    \n",
        "    d = test_dataset_dicts[i]\n",
        "    im = cv2.imread(d[\"file_name\"])\n",
        "    outputs = predictor(im)  # format is documented at https://detectron2.readthedocs.io/tutorials/models.html#model-output-format\n",
        "    v = Visualizer(im[:, :, ::-1],\n",
        "                   metadata=test_metadata, \n",
        "                   scale=1, \n",
        "    )\n",
        "    out = v.draw_instance_predictions(outputs[\"instances\"].to(\"cpu\"))\n",
        "    cv2_imshow(out.get_image()[:, :, ::-1])"
      ],
      "execution_count": null,
      "outputs": []
    },
    {
      "cell_type": "code",
      "metadata": {
        "colab": {
          "base_uri": "https://localhost:8080/"
        },
        "id": "cKenDUB5eFdf",
        "outputId": "e6b46a8d-d00e-4136-eea0-83b597236131"
      },
      "source": [
        "from detectron2.evaluation import COCOEvaluator, inference_on_dataset\n",
        "from detectron2.data import build_detection_test_loader\n",
        "\n",
        "evaluator = COCOEvaluator(\"visdrone_test\", (\"bbox\",), False, output_dir=\"./output/\")\n",
        "val_loader = build_detection_test_loader(cfg, \"visdrone_test\")\n",
        "print(inference_on_dataset(model, val_loader, evaluator))"
      ],
      "execution_count": 43,
      "outputs": [
        {
          "output_type": "stream",
          "text": [
            "\u001b[32m[08/10 06:17:42 d2.data.datasets.coco]: \u001b[0mLoaded 1610 images in COCO format from /content/test/annotations.json\n",
            "\u001b[32m[08/10 06:17:42 d2.data.dataset_mapper]: \u001b[0m[DatasetMapper] Augmentations used in inference: [ResizeShortestEdge(short_edge_length=(800, 800), max_size=1333, sample_style='choice')]\n",
            "\u001b[32m[08/10 06:17:42 d2.data.common]: \u001b[0mSerializing 1610 elements to byte tensors and concatenating them all ...\n",
            "\u001b[32m[08/10 06:17:42 d2.data.common]: \u001b[0mSerialized dataset takes 2.56 MiB\n",
            "\u001b[32m[08/10 06:17:42 d2.evaluation.evaluator]: \u001b[0mStart inference on 1610 batches\n",
            "\u001b[32m[08/10 06:17:44 d2.evaluation.evaluator]: \u001b[0mInference done 11/1610. Dataloading: 0.0040 s/iter. Inference: 0.1097 s/iter. Eval: 0.0005 s/iter. Total: 0.1141 s/iter. ETA=0:03:02\n",
            "\u001b[32m[08/10 06:17:49 d2.evaluation.evaluator]: \u001b[0mInference done 57/1610. Dataloading: 0.0024 s/iter. Inference: 0.1083 s/iter. Eval: 0.0004 s/iter. Total: 0.1112 s/iter. ETA=0:02:52\n",
            "\u001b[32m[08/10 06:17:54 d2.evaluation.evaluator]: \u001b[0mInference done 102/1610. Dataloading: 0.0023 s/iter. Inference: 0.1090 s/iter. Eval: 0.0004 s/iter. Total: 0.1118 s/iter. ETA=0:02:48\n",
            "\u001b[32m[08/10 06:17:59 d2.evaluation.evaluator]: \u001b[0mInference done 147/1610. Dataloading: 0.0024 s/iter. Inference: 0.1092 s/iter. Eval: 0.0004 s/iter. Total: 0.1121 s/iter. ETA=0:02:44\n",
            "\u001b[32m[08/10 06:18:04 d2.evaluation.evaluator]: \u001b[0mInference done 192/1610. Dataloading: 0.0024 s/iter. Inference: 0.1092 s/iter. Eval: 0.0004 s/iter. Total: 0.1120 s/iter. ETA=0:02:38\n",
            "\u001b[32m[08/10 06:18:09 d2.evaluation.evaluator]: \u001b[0mInference done 231/1610. Dataloading: 0.0024 s/iter. Inference: 0.1119 s/iter. Eval: 0.0004 s/iter. Total: 0.1148 s/iter. ETA=0:02:38\n",
            "\u001b[32m[08/10 06:18:14 d2.evaluation.evaluator]: \u001b[0mInference done 276/1610. Dataloading: 0.0025 s/iter. Inference: 0.1115 s/iter. Eval: 0.0004 s/iter. Total: 0.1145 s/iter. ETA=0:02:32\n",
            "\u001b[32m[08/10 06:18:19 d2.evaluation.evaluator]: \u001b[0mInference done 320/1610. Dataloading: 0.0025 s/iter. Inference: 0.1117 s/iter. Eval: 0.0004 s/iter. Total: 0.1147 s/iter. ETA=0:02:27\n",
            "\u001b[32m[08/10 06:18:24 d2.evaluation.evaluator]: \u001b[0mInference done 364/1610. Dataloading: 0.0025 s/iter. Inference: 0.1116 s/iter. Eval: 0.0004 s/iter. Total: 0.1146 s/iter. ETA=0:02:22\n",
            "\u001b[32m[08/10 06:18:29 d2.evaluation.evaluator]: \u001b[0mInference done 408/1610. Dataloading: 0.0025 s/iter. Inference: 0.1118 s/iter. Eval: 0.0004 s/iter. Total: 0.1148 s/iter. ETA=0:02:17\n",
            "\u001b[32m[08/10 06:18:35 d2.evaluation.evaluator]: \u001b[0mInference done 452/1610. Dataloading: 0.0025 s/iter. Inference: 0.1119 s/iter. Eval: 0.0004 s/iter. Total: 0.1149 s/iter. ETA=0:02:13\n",
            "\u001b[32m[08/10 06:18:40 d2.evaluation.evaluator]: \u001b[0mInference done 496/1610. Dataloading: 0.0026 s/iter. Inference: 0.1119 s/iter. Eval: 0.0004 s/iter. Total: 0.1150 s/iter. ETA=0:02:08\n",
            "\u001b[32m[08/10 06:18:45 d2.evaluation.evaluator]: \u001b[0mInference done 539/1610. Dataloading: 0.0026 s/iter. Inference: 0.1121 s/iter. Eval: 0.0004 s/iter. Total: 0.1153 s/iter. ETA=0:02:03\n",
            "\u001b[32m[08/10 06:18:50 d2.evaluation.evaluator]: \u001b[0mInference done 583/1610. Dataloading: 0.0026 s/iter. Inference: 0.1122 s/iter. Eval: 0.0004 s/iter. Total: 0.1153 s/iter. ETA=0:01:58\n",
            "\u001b[32m[08/10 06:18:55 d2.evaluation.evaluator]: \u001b[0mInference done 626/1610. Dataloading: 0.0027 s/iter. Inference: 0.1123 s/iter. Eval: 0.0004 s/iter. Total: 0.1155 s/iter. ETA=0:01:53\n",
            "\u001b[32m[08/10 06:19:00 d2.evaluation.evaluator]: \u001b[0mInference done 669/1610. Dataloading: 0.0027 s/iter. Inference: 0.1124 s/iter. Eval: 0.0004 s/iter. Total: 0.1157 s/iter. ETA=0:01:48\n",
            "\u001b[32m[08/10 06:19:05 d2.evaluation.evaluator]: \u001b[0mInference done 712/1610. Dataloading: 0.0028 s/iter. Inference: 0.1125 s/iter. Eval: 0.0004 s/iter. Total: 0.1157 s/iter. ETA=0:01:43\n",
            "\u001b[32m[08/10 06:19:10 d2.evaluation.evaluator]: \u001b[0mInference done 755/1610. Dataloading: 0.0027 s/iter. Inference: 0.1126 s/iter. Eval: 0.0004 s/iter. Total: 0.1158 s/iter. ETA=0:01:39\n",
            "\u001b[32m[08/10 06:19:15 d2.evaluation.evaluator]: \u001b[0mInference done 798/1610. Dataloading: 0.0028 s/iter. Inference: 0.1127 s/iter. Eval: 0.0004 s/iter. Total: 0.1159 s/iter. ETA=0:01:34\n",
            "\u001b[32m[08/10 06:19:20 d2.evaluation.evaluator]: \u001b[0mInference done 841/1610. Dataloading: 0.0028 s/iter. Inference: 0.1128 s/iter. Eval: 0.0004 s/iter. Total: 0.1161 s/iter. ETA=0:01:29\n",
            "\u001b[32m[08/10 06:19:25 d2.evaluation.evaluator]: \u001b[0mInference done 883/1610. Dataloading: 0.0028 s/iter. Inference: 0.1129 s/iter. Eval: 0.0004 s/iter. Total: 0.1162 s/iter. ETA=0:01:24\n",
            "\u001b[32m[08/10 06:19:30 d2.evaluation.evaluator]: \u001b[0mInference done 926/1610. Dataloading: 0.0028 s/iter. Inference: 0.1130 s/iter. Eval: 0.0004 s/iter. Total: 0.1163 s/iter. ETA=0:01:19\n",
            "\u001b[32m[08/10 06:19:35 d2.evaluation.evaluator]: \u001b[0mInference done 968/1610. Dataloading: 0.0028 s/iter. Inference: 0.1132 s/iter. Eval: 0.0004 s/iter. Total: 0.1164 s/iter. ETA=0:01:14\n",
            "\u001b[32m[08/10 06:19:40 d2.evaluation.evaluator]: \u001b[0mInference done 1011/1610. Dataloading: 0.0028 s/iter. Inference: 0.1133 s/iter. Eval: 0.0004 s/iter. Total: 0.1166 s/iter. ETA=0:01:09\n",
            "\u001b[32m[08/10 06:19:45 d2.evaluation.evaluator]: \u001b[0mInference done 1053/1610. Dataloading: 0.0028 s/iter. Inference: 0.1134 s/iter. Eval: 0.0004 s/iter. Total: 0.1167 s/iter. ETA=0:01:04\n",
            "\u001b[32m[08/10 06:19:51 d2.evaluation.evaluator]: \u001b[0mInference done 1095/1610. Dataloading: 0.0028 s/iter. Inference: 0.1135 s/iter. Eval: 0.0004 s/iter. Total: 0.1168 s/iter. ETA=0:01:00\n",
            "\u001b[32m[08/10 06:19:56 d2.evaluation.evaluator]: \u001b[0mInference done 1137/1610. Dataloading: 0.0028 s/iter. Inference: 0.1136 s/iter. Eval: 0.0004 s/iter. Total: 0.1169 s/iter. ETA=0:00:55\n",
            "\u001b[32m[08/10 06:20:01 d2.evaluation.evaluator]: \u001b[0mInference done 1179/1610. Dataloading: 0.0028 s/iter. Inference: 0.1137 s/iter. Eval: 0.0004 s/iter. Total: 0.1170 s/iter. ETA=0:00:50\n",
            "\u001b[32m[08/10 06:20:06 d2.evaluation.evaluator]: \u001b[0mInference done 1221/1610. Dataloading: 0.0028 s/iter. Inference: 0.1139 s/iter. Eval: 0.0004 s/iter. Total: 0.1172 s/iter. ETA=0:00:45\n",
            "\u001b[32m[08/10 06:20:11 d2.evaluation.evaluator]: \u001b[0mInference done 1264/1610. Dataloading: 0.0028 s/iter. Inference: 0.1139 s/iter. Eval: 0.0004 s/iter. Total: 0.1172 s/iter. ETA=0:00:40\n",
            "\u001b[32m[08/10 06:20:16 d2.evaluation.evaluator]: \u001b[0mInference done 1306/1610. Dataloading: 0.0028 s/iter. Inference: 0.1141 s/iter. Eval: 0.0004 s/iter. Total: 0.1173 s/iter. ETA=0:00:35\n",
            "\u001b[32m[08/10 06:20:21 d2.evaluation.evaluator]: \u001b[0mInference done 1349/1610. Dataloading: 0.0028 s/iter. Inference: 0.1141 s/iter. Eval: 0.0004 s/iter. Total: 0.1174 s/iter. ETA=0:00:30\n",
            "\u001b[32m[08/10 06:20:26 d2.evaluation.evaluator]: \u001b[0mInference done 1391/1610. Dataloading: 0.0028 s/iter. Inference: 0.1142 s/iter. Eval: 0.0004 s/iter. Total: 0.1175 s/iter. ETA=0:00:25\n",
            "\u001b[32m[08/10 06:20:31 d2.evaluation.evaluator]: \u001b[0mInference done 1433/1610. Dataloading: 0.0028 s/iter. Inference: 0.1143 s/iter. Eval: 0.0004 s/iter. Total: 0.1176 s/iter. ETA=0:00:20\n",
            "\u001b[32m[08/10 06:20:36 d2.evaluation.evaluator]: \u001b[0mInference done 1475/1610. Dataloading: 0.0028 s/iter. Inference: 0.1144 s/iter. Eval: 0.0004 s/iter. Total: 0.1176 s/iter. ETA=0:00:15\n",
            "\u001b[32m[08/10 06:20:41 d2.evaluation.evaluator]: \u001b[0mInference done 1517/1610. Dataloading: 0.0028 s/iter. Inference: 0.1145 s/iter. Eval: 0.0004 s/iter. Total: 0.1177 s/iter. ETA=0:00:10\n",
            "\u001b[32m[08/10 06:20:46 d2.evaluation.evaluator]: \u001b[0mInference done 1559/1610. Dataloading: 0.0028 s/iter. Inference: 0.1146 s/iter. Eval: 0.0004 s/iter. Total: 0.1178 s/iter. ETA=0:00:06\n",
            "\u001b[32m[08/10 06:20:51 d2.evaluation.evaluator]: \u001b[0mInference done 1601/1610. Dataloading: 0.0028 s/iter. Inference: 0.1147 s/iter. Eval: 0.0004 s/iter. Total: 0.1179 s/iter. ETA=0:00:01\n",
            "\u001b[32m[08/10 06:20:53 d2.evaluation.evaluator]: \u001b[0mTotal inference time: 0:03:09.373921 (0.117990 s / iter per device, on 1 devices)\n",
            "\u001b[32m[08/10 06:20:53 d2.evaluation.evaluator]: \u001b[0mTotal inference pure compute time: 0:03:04 (0.114668 s / iter per device, on 1 devices)\n",
            "\u001b[32m[08/10 06:20:54 d2.evaluation.coco_evaluation]: \u001b[0mPreparing results for COCO format ...\n",
            "\u001b[32m[08/10 06:20:54 d2.evaluation.coco_evaluation]: \u001b[0mSaving results to ./output/coco_instances_results.json\n",
            "\u001b[32m[08/10 06:20:54 d2.evaluation.coco_evaluation]: \u001b[0mEvaluating predictions with unofficial COCO API...\n",
            "Loading and preparing results...\n",
            "DONE (t=0.89s)\n",
            "creating index...\n",
            "index created!\n",
            "\u001b[32m[08/10 06:20:55 d2.evaluation.fast_eval_api]: \u001b[0mEvaluate annotation type *bbox*\n",
            "\u001b[32m[08/10 06:20:58 d2.evaluation.fast_eval_api]: \u001b[0mCOCOeval_opt.evaluate() finished in 2.82 seconds.\n",
            "\u001b[32m[08/10 06:20:58 d2.evaluation.fast_eval_api]: \u001b[0mAccumulating evaluation results...\n",
            "\u001b[32m[08/10 06:20:59 d2.evaluation.fast_eval_api]: \u001b[0mCOCOeval_opt.accumulate() finished in 0.52 seconds.\n",
            " Average Precision  (AP) @[ IoU=0.50:0.95 | area=   all | maxDets=100 ] = 0.132\n",
            " Average Precision  (AP) @[ IoU=0.50      | area=   all | maxDets=100 ] = 0.252\n",
            " Average Precision  (AP) @[ IoU=0.75      | area=   all | maxDets=100 ] = 0.126\n",
            " Average Precision  (AP) @[ IoU=0.50:0.95 | area= small | maxDets=100 ] = 0.055\n",
            " Average Precision  (AP) @[ IoU=0.50:0.95 | area=medium | maxDets=100 ] = 0.209\n",
            " Average Precision  (AP) @[ IoU=0.50:0.95 | area= large | maxDets=100 ] = 0.321\n",
            " Average Recall     (AR) @[ IoU=0.50:0.95 | area=   all | maxDets=  1 ] = 0.065\n",
            " Average Recall     (AR) @[ IoU=0.50:0.95 | area=   all | maxDets= 10 ] = 0.190\n",
            " Average Recall     (AR) @[ IoU=0.50:0.95 | area=   all | maxDets=100 ] = 0.232\n",
            " Average Recall     (AR) @[ IoU=0.50:0.95 | area= small | maxDets=100 ] = 0.119\n",
            " Average Recall     (AR) @[ IoU=0.50:0.95 | area=medium | maxDets=100 ] = 0.352\n",
            " Average Recall     (AR) @[ IoU=0.50:0.95 | area= large | maxDets=100 ] = 0.486\n",
            "\u001b[32m[08/10 06:20:59 d2.evaluation.coco_evaluation]: \u001b[0mEvaluation results for bbox: \n",
            "|   AP   |  AP50  |  AP75  |  APs  |  APm   |  APl   |\n",
            "|:------:|:------:|:------:|:-----:|:------:|:------:|\n",
            "| 13.160 | 25.195 | 12.615 | 5.473 | 20.919 | 32.102 |\n",
            "\u001b[32m[08/10 06:20:59 d2.evaluation.coco_evaluation]: \u001b[0mPer-category bbox AP: \n",
            "| category   | AP     | category   | AP     | category        | AP     |\n",
            "|:-----------|:-------|:-----------|:-------|:----------------|:-------|\n",
            "| Ignore     | nan    | Pedestrian | 10.386 | People          | 3.390  |\n",
            "| Bicycle    | 3.030  | Car        | 36.090 | Van             | 18.181 |\n",
            "| Truck      | 14.485 | Tricycle   | 4.746  | Awning-Tricycle | 3.889  |\n",
            "| Bus        | 31.275 | Motor      | 6.133  | Others          | nan    |\n",
            "OrderedDict([('bbox', {'AP': 13.160499942141755, 'AP50': 25.195091823105926, 'AP75': 12.61464416241927, 'APs': 5.473374086169579, 'APm': 20.919043205758793, 'APl': 32.102440853638505, 'AP-Ignore': nan, 'AP-Pedestrian': 10.38574700014298, 'AP-People': 3.3901151037057375, 'AP-Bicycle': 3.029561102347979, 'AP-Car': 36.08981195203994, 'AP-Van': 18.18084576537893, 'AP-Truck': 14.485059889680855, 'AP-Tricycle': 4.746106114389881, 'AP-Awning-Tricycle': 3.8891246433084614, 'AP-Bus': 31.27529651761818, 'AP-Motor': 6.133331332804602, 'AP-Others': nan})])\n"
          ],
          "name": "stdout"
        }
      ]
    }
  ]
}